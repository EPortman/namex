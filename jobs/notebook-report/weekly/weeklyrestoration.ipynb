{
 "cells": [
  {
   "cell_type": "markdown",
   "source": [
    "# Weekly Stats"
   ],
   "metadata": {
    "collapsed": false
   }
  },
  {
   "cell_type": "markdown",
   "source": [
    "We need to load in these libraries into our notebook in order to query, load, manipulate and view the data"
   ],
   "metadata": {
    "collapsed": false
   }
  },
  {
   "cell_type": "code",
   "execution_count": null,
   "outputs": [],
   "source": [
    "import os\n",
    "import psycopg2\n",
    "import pandas as pd\n",
    "import matplotlib\n",
    "from datetime import datetime, timedelta\n",
    "from dateutil.relativedelta import relativedelta\n",
    "from IPython.core.display import HTML\n",
    "\n",
    "%load_ext sql\n",
    "%config SqlMagic.displaylimit = 5"
   ],
   "metadata": {
    "collapsed": false,
    "pycharm": {
     "name": "#%%\n",
     "is_executing": false
    }
   }
  },
  {
   "cell_type": "markdown",
   "source": [
    "This will create the connection to the database and prep the jupyter magic for SQL"
   ],
   "metadata": {
    "collapsed": false
   }
  },
  {
   "cell_type": "code",
   "execution_count": null,
   "outputs": [],
   "source": [
    "connect_to_db = 'postgresql://' + \\\n",
    "                os.getenv('PG_USER', '') + \":\" + os.getenv('PG_PASSWORD', '') +'@' + \\\n",
    "                os.getenv('PG_HOST', '') + ':' + os.getenv('PG_PORT', '5432') + '/' + os.getenv('PG_DB_NAME', '');\n",
    "    \n",
    "%sql $connect_to_db"
   ],
   "metadata": {
    "collapsed": false,
    "pycharm": {
     "name": "#%%\n",
     "is_executing": false
    },
    "tags": []
   }
  },
  {
   "cell_type": "markdown",
   "source": [
    "Simplest query to run to ensure our libraries are loaded and our DB connection is working"
   ],
   "metadata": {
    "collapsed": false
   }
  },
  {
   "cell_type": "code",
   "execution_count": null,
   "outputs": [],
   "source": [
    "%%sql \n",
    "select now() AT TIME ZONE 'PST' as current_date"
   ],
   "metadata": {
    "collapsed": false,
    "pycharm": {
     "name": "#%%\n",
     "is_executing": false
    },
    "tags": []
   }
  },
  {
   "cell_type": "markdown",
   "source": [
    "Weekly running time."
   ],
   "metadata": {
    "collapsed": false
   }
  },
  {
   "cell_type": "code",
   "execution_count": null,
   "outputs": [],
   "source": [
    "%%sql stat_weekly_restoration  <<\n",
    "SELECT r.nr_num, n.name, r.submitted_date, r.expiration_date, n.state \n",
    "FROM requests r, names n, events e\n",
    "WHERE r.id=n.nr_id\n",
    "AND r.id=e.nr_id\n",
    "AND r.request_type_cd in ('RCR', 'RUL', 'BERE', 'RCC', 'RCP', 'RFI', 'XRCR', 'RLC', 'XRCP')\n",
    "AND n.state in ('APPROVED', 'CONDITION')\n",
    "AND e.state_cd in ('APPROVED', 'CONDITIONAL')\n",
    "AND e.action='nro_update' \n",
    "AND date(e.event_dt at time zone 'utc' at time zone 'pst') >= date(current_date-7)\n",
    "AND date(e.event_dt at time zone 'utc' at time zone 'pst') <= date(current_date-1)\n",
    "GROUP BY r.nr_num, n.name, r.submitted_date, r.expiration_date, n.state\n",
    "ORDER BY r.expiration_date desc;"
   ],
   "metadata": {
    "collapsed": false,
    "pycharm": {
     "name": "#%%\n",
     "is_executing": false
    },
    "tags": []
   }
  },
  {
   "cell_type": "code",
   "execution_count": null,
   "metadata": {},
   "outputs": [],
   "source": [
    "filename = os.getenv('DATA_DIR', '')+'weekly_restoration_expiry_till_' + datetime.strftime(datetime.now()-timedelta(1), '%Y-%m-%d') +'.csv'\n",
    "restoration_edt=stat_weekly_restoration.DataFrame()\n",
    "\n",
    "with open(filename, 'w') as f:\n",
    "    if restoration_edt.empty:\n",
    "        f.write('No Data Retrieved')  \n",
    "    else:    \n",
    "        restoration_edt.to_csv(f, sep=',', encoding='utf-8', index=False)"
   ]
  }
 ],
 "metadata": {
  "celltoolbar": "Tags",
  "kernelspec": {
   "display_name": "Python 3",
   "language": "python",
   "name": "python3"
  },
  "language_info": {
   "codemirror_mode": {
    "name": "ipython",
    "version": 3
   },
   "file_extension": ".py",
   "mimetype": "text/x-python",
   "name": "python",
   "nbconvert_exporter": "python",
   "pygments_lexer": "ipython3",
   "version": "3.7.3-final"
  },
  "pycharm": {
   "stem_cell": {
    "cell_type": "raw",
    "source": [],
    "metadata": {
     "collapsed": false
    }
   }
  }
 },
 "nbformat": 4,
 "nbformat_minor": 2
}