{
 "cells": [
  {
   "cell_type": "markdown",
   "metadata": {
    "collapsed": false
   },
   "source": [
    "# NameX Daily Stats"
   ]
  },
  {
   "cell_type": "markdown",
   "metadata": {
    "collapsed": false
   },
   "source": [
    "We need to load in these libraries into our notebook in order to query, load, manipulate and view the data"
   ]
  },
  {
   "cell_type": "code",
   "execution_count": null,
   "metadata": {
    "collapsed": false,
    "pycharm": {
     "is_executing": false,
     "name": "#%%\n"
    }
   },
   "outputs": [],
   "source": [
    "import os\n",
    "import pandas as pd\n",
    "import csv\n",
    "from datetime import datetime, timedelta\n",
    "\n",
    "%load_ext sql\n",
    "%config SqlMagic.displaylimit = 5"
   ]
  },
  {
   "cell_type": "markdown",
   "metadata": {
    "collapsed": false
   },
   "source": [
    "This will create the connection to the database and prep the jupyter magic for SQL..."
   ]
  },
  {
   "cell_type": "code",
   "execution_count": null,
   "metadata": {
    "collapsed": false,
    "pycharm": {
     "is_executing": false,
     "name": "#%%\n"
    }
   },
   "outputs": [],
   "source": [
    "namex_db = 'postgresql://' + \\\n",
    "                os.getenv('PG_USER', '') + \":\" + os.getenv('PG_PASSWORD', '') +'@' + \\\n",
    "                os.getenv('PG_HOST', '') + ':' + os.getenv('PG_PORT', '5432') + '/' + os.getenv('PG_DB_NAME', '');\n",
    "\n",
    "%sql $namex_db\n"
   ]
  },
  {
   "cell_type": "code",
   "execution_count": null,
   "metadata": {},
   "outputs": [],
   "source": [
    "pay_db = 'postgresql://' + \\\n",
    "                os.getenv('PAY_USER', '') + \":\" + os.getenv('PAY_PASSWORD', '') +'@' + \\\n",
    "                os.getenv('PAY_HOST', '') + ':' + os.getenv('PAY_PORT', '5432') + '/' + os.getenv('PAY_DB_NAME', '');\n",
    "\n",
    "%sql $pay_db"
   ]
  },
  {
   "cell_type": "markdown",
   "metadata": {
    "collapsed": false
   },
   "source": [
    "Simplest query to run to ensure our libraries are loaded and our DB connection is working"
   ]
  },
  {
   "cell_type": "code",
   "execution_count": null,
   "metadata": {
    "collapsed": false,
    "pycharm": {
     "is_executing": false,
     "name": "#%%\n"
    }
   },
   "outputs": [],
   "source": [
    "%%sql $namex_db\n",
    "select now() AT TIME ZONE 'PST' as current_date"
   ]
  },
  {
   "cell_type": "markdown",
   "metadata": {
    "collapsed": false
   },
   "source": [
    "Daily totals for specified date: Following query, 'current_date - 0' means today, 'current_date - 1' means yesterday, 'current_date - 2' means the day before yesterday..."
   ]
  },
  {
   "cell_type": "markdown",
   "metadata": {},
   "source": [
    "Set the number of days we want the report to be run over."
   ]
  },
  {
   "cell_type": "code",
   "execution_count": null,
   "metadata": {},
   "outputs": [],
   "source": [
    "number_of_days_nr=int(os.getenv('NUMBER_OF_DAYS_NR', '1')) \n",
    "report_start_date=datetime.strftime(datetime.now()-timedelta(number_of_days_nr), '%Y-%m-%d')\n",
    "\n",
    "number_of_days_payment=int(os.getenv('NUMBER_OF_DAYS_PAYMENT', '1'))  \n",
    "payments_start_date=datetime.strftime(datetime.now()-timedelta(number_of_days_payment), '%Y-%m-%d')"
   ]
  },
  {
   "cell_type": "markdown",
   "metadata": {},
   "source": [
    "## get all duplicate names"
   ]
  },
  {
   "cell_type": "code",
   "execution_count": null,
   "metadata": {},
   "outputs": [],
   "source": [
    "%%sql $namex_db name_requests  <<\n",
    "select distinct\n",
    "r.id, r.nr_num, r.priority_cd as priority, r.state_cd as nr_state,r.submitted_date,r.source,r.previous_request_id as resubmit,\n",
    "n.name,\n",
    "a.first_name||' '||a.last_name as customer_name, a.phone_number, a.email_address\n",
    "from requests r, names n, applicants a\n",
    "where r.id = n.nr_id\n",
    "and r.id = a.nr_id\n",
    "and r.submitted_date::date >= :report_start_date\n",
    "and r.state_cd <> 'PENDING_DELETION'\n",
    "and r.nr_num not like 'NR L%'\n",
    "and\n",
    "n.choice=1\n",
    "and\n",
    "n.name in (\n",
    "\n",
    "select \n",
    "n.name\n",
    "from requests r, names n\n",
    "where r.id = n.nr_id\n",
    "and\n",
    "r.submitted_date::date >= :report_start_date\n",
    "-- and r.state_cd in ('DRAFT','HOLD','PENDING_PAYMENT','CANCELLED')\n",
    "-- and r.state_cd in ('DRAFT','HOLD','PENDING_PAYMENT')\n",
    "and r.state_cd not in ('PENDING_DELETION')\n",
    "--and n.choice=1\n",
    "group by n.name\n",
    "having count(n.name) > 1\n",
    ")\n",
    "order by n.name\n",
    ";"
   ]
  },
  {
   "cell_type": "code",
   "execution_count": null,
   "metadata": {},
   "outputs": [],
   "source": [
    "nr_frame = name_requests.DataFrame()\n",
    "filename = os.path.join(os.getcwd(), r'data/')+'nr_duplicates_namex_' + report_start_date +'.csv'\n",
    "\n",
    "with open(filename, 'w') as f:\n",
    "    if not nr_frame.empty:\n",
    "        nr_frame.to_csv(f, sep=',', encoding='utf-8', index=False)"
   ]
  },
  {
   "cell_type": "markdown",
   "metadata": {},
   "source": [
    "## get all payments"
   ]
  },
  {
   "cell_type": "code",
   "execution_count": null,
   "metadata": {},
   "outputs": [],
   "source": [
    "%%sql $pay_db paid  <<\n",
    "SELECT i.business_identifier, \n",
    "       i.id                  invoice_id, \n",
    "       i.created_on,\n",
    "       ir.invoice_number, \n",
    "       i.invoice_status_code invoice_status, \n",
    "       p.payment_status_code pay_status, \n",
    "       i.total, \n",
    "       i.paid, \n",
    "       r.receipt_number \n",
    "FROM   invoices i \n",
    "       LEFT OUTER JOIN invoice_references ir \n",
    "                    ON ir.invoice_id = i.id \n",
    "       LEFT OUTER JOIN payments p \n",
    "                    ON p.invoice_number = ir.invoice_number \n",
    "       LEFT OUTER JOIN receipts r \n",
    "                    ON r.invoice_id = i.id \n",
    "WHERE \n",
    "  created_on >=:payments_start_date\n",
    "  and i.invoice_status_code = 'PAID'\n",
    "  and i.business_identifier like 'NR%'\n",
    "  and i.paid <> 101.5\n",
    "ORDER  BY invoice_id ASC;"
   ]
  },
  {
   "cell_type": "code",
   "execution_count": null,
   "metadata": {},
   "outputs": [],
   "source": [
    "paid_frame = paid.DataFrame()\n",
    "if not paid_frame.empty:    \n",
    "    paid_frame['nr_num']=paid_frame['business_identifier']\n",
    "\n",
    "payment_filename = os.path.join(os.getcwd(), r'data/')+'nr_duplicates_payment_' + payments_start_date +'.csv'\n",
    "\n",
    "with open(payment_filename, 'w') as f:\n",
    "    if paid_frame.empty:\n",
    "        writer = csv.writer(f)\n",
    "        writer.writerow(('No Data Retrieved',''))        \n",
    "    else:\n",
    "        paid_frame.to_csv(f, sep=',', encoding='utf-8', index=False)    "
   ]
  },
  {
   "cell_type": "markdown",
   "metadata": {},
   "source": [
    "## Merge the Duplicate Names with Payment information"
   ]
  },
  {
   "cell_type": "code",
   "execution_count": null,
   "metadata": {},
   "outputs": [],
   "source": [
    "if not nr_frame.empty and not paid_frame.empty:  \n",
    "    result_frame = pd.merge(nr_frame, paid_frame, how='left', on=['nr_num'])\n",
    "    result_frame=result_frame.drop(['id','business_identifier','created_on','invoice_number','total','receipt_number'], axis=1)      \n",
    "elif not nr_frame.empty:\n",
    "    result_frame = nr_frame.drop(['id'], axis=1)\n",
    "else: \n",
    "    result_frame = pd.DataFrame([])"
   ]
  },
  {
   "cell_type": "code",
   "execution_count": null,
   "metadata": {},
   "outputs": [],
   "source": [
    "merged_filename = os.path.join(os.getcwd(), r'data/')+'nr_duplicates_' + report_start_date +'.csv'\n",
    "\n",
    "with open(merged_filename, 'w') as f:\n",
    "    if result_frame.empty:\n",
    "        writer = csv.writer(f)\n",
    "        writer.writerow(('No Data Retrieved','')) \n",
    "    else: \n",
    "        result_frame.to_csv(f, sep=',', encoding='utf-8', index=False)"
   ]
  }
 ],
 "metadata": {
  "celltoolbar": "Tags",
  "kernelspec": {
   "display_name": "Python 3.10.4 64-bit",
   "language": "python",
   "name": "python3"
  },
  "language_info": {
   "codemirror_mode": {
    "name": "ipython",
    "version": 3
   },
   "file_extension": ".py",
   "mimetype": "text/x-python",
   "name": "python",
   "nbconvert_exporter": "python",
   "pygments_lexer": "ipython3",
   "version": "3.10.4"
  },
  "pycharm": {
   "stem_cell": {
    "cell_type": "raw",
    "metadata": {
     "collapsed": false
    },
    "source": []
   }
  },
  "vscode": {
   "interpreter": {
    "hash": "fcb35bce15c55b4cacb5112e543368f86c7f98ed17acd45e6841ee83ed1df6e3"
   }
  }
 },
 "nbformat": 4,
 "nbformat_minor": 2
}
